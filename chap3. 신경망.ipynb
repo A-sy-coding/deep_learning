{
 "cells": [
  {
   "cell_type": "markdown",
   "metadata": {},
   "source": [
    "# 신경망 학습 구현(매개변수값을 정하기 위해 경사하강법 사용---> 손실함수를 최소화하는 방법)"
   ]
  },
  {
   "cell_type": "markdown",
   "metadata": {},
   "source": [
    "* 손실함수 \n",
    "* 1. 평균 제곱 오차 (MSE)\n",
    "* 2. 교차 엔트로피 오차"
   ]
  },
  {
   "cell_type": "markdown",
   "metadata": {},
   "source": [
    "* 학습 알고리즘 구현\n",
    "* 1. 미니배치 --> 훈련데이터에서 무작위로 일부를 가져옴\n",
    "* 2. 기울기 산출  --> 각 가중치 매개변수의 기울기를 구한다.(기울기는 손실함수의 값을 작게하는 방향을 나타낸다.)\n",
    "* 3. 매개변수 갱신 --> 가중치 매개변수를 기울기 방향으로 갱신한다.(경사하강법 같은 방법을 사용한다.)\n",
    "* 4. 1~3단계를 반복한다."
   ]
  },
  {
   "cell_type": "code",
   "execution_count": null,
   "metadata": {},
   "outputs": [],
   "source": [
    "import numpy as np\n",
    "\n",
    "# mse구하는 함수 구현\n",
    "# y -> 예측값 , t -> 실제값\n",
    "def mean_squared_error(y,t):\n",
    "    return 0.5*np.sum((y-t)**2)\n",
    "\n",
    "# 교차 엔트로피 오차 구하는 함수 구현\n",
    "# 컴퓨터에서는 log안에 0이 들어가면 오류가 발생하기 때문에 아주 작은 수를 더하여 오류를 해결한다.\n",
    "def cross_entropy_error(y,t):\n",
    "    delta = 1e-7\n",
    "    return -np.sum(t*np.log(y+delta))"
   ]
  },
  {
   "cell_type": "code",
   "execution_count": null,
   "metadata": {},
   "outputs": [],
   "source": [
    "# 예시\n",
    "t = [0,0,1,0,0,0,0,0,0]\n",
    "y = [0.1,0.05,0.6,0.0,0.05,0.1,0.0,0.1,0.0]\n",
    "\n",
    "\n",
    "print('mse : {:.4f}'.format(mean_squared_error(np.array(y),np.array(t))))\n",
    "print('cee : {:.4f}'.format(cross_entropy_error(np.array(y),np.array(t))))"
   ]
  },
  {
   "cell_type": "code",
   "execution_count": null,
   "metadata": {},
   "outputs": [],
   "source": [
    "import os\n",
    "os.getcwd()\n",
    "os.chdir('C:/Users/174518/Desktop/c언어,파이선/파이썬 데이터/밑바닥부터시작하는딥러닝1/deep-learning-from-scratch-master')"
   ]
  },
  {
   "cell_type": "code",
   "execution_count": null,
   "metadata": {},
   "outputs": [],
   "source": [
    "# 미니배치 훈련 구현\n",
    "# 데이터의 양이 많으면 각각의 손실함수를 구하는 것은 힘드므로 미니배치를 통해 일부가 전체를 추정할 수 있게끔 만든다.\n",
    "\n",
    "import sys, os\n",
    "sys.path.append(os.pardir)\n",
    "from dataset.mnist import load_mnist\n",
    "\n",
    "(x_train,t_train),(x_test,t_test) = load_mnist(normalize=True,one_hot_label=True)\n",
    "\n",
    "print(x_train.shape)\n",
    "print(t_train.shape)"
   ]
  },
  {
   "cell_type": "code",
   "execution_count": null,
   "metadata": {},
   "outputs": [],
   "source": [
    "# w전체 훈련 데이터에서 무작위로 10장만 뽑기\n",
    "train_size = x_train.shape[0]\n",
    "batch_size = 10\n",
    "batch_mask = np.random.choice(train_size,batch_size) # 전체 행에서 10개를 무작위로 뽑고 그 인덱스를 저장\n",
    "\n",
    "# 미니 배치(전체에서 10개만 추출)\n",
    "x_batch = x_train[batch_mask]\n",
    "t_batch = t_train[batch_mask]"
   ]
  },
  {
   "cell_type": "code",
   "execution_count": null,
   "metadata": {},
   "outputs": [],
   "source": [
    "# 배치 데이터를 지원하는 교차엔트로피 오차 함수 구현하기 !!\n",
    "# 데이터가 하나인 경우와 배치로 묶여 입력될 경우 모두를 구현할 수 있도록 한다.\n",
    "\n",
    "def cross_entropy_error(y,t):  # y는 예측값 ,  t는 정답 레이블\n",
    "    if y.ndim == 1:\n",
    "        t = t.reshape(1,t.size)\n",
    "        y = y.reshape(1,y.size)\n",
    "    \n",
    "    batch_size = y.shape[0]  # 미니배치 개수 지정\n",
    "    return -np.sum(np.lo(y[np.arange(batch_size),t]))/batch_size\n",
    "# y의 값들이 원핫인코딩으로 인해 배열이 변경되고 정답 레이블만 가지고도 교차 엔트로피를 구할 수 있기 때문에 정답 레이블만을 출력한다."
   ]
  },
  {
   "cell_type": "code",
   "execution_count": null,
   "metadata": {},
   "outputs": [],
   "source": [
    "# y[np.arange(batch_size),t]의 코드 간단한 예시 설명\n",
    "batch_size = 3\n",
    "row = np.arange(batch_size)\n",
    "t = [2,4,0]\n",
    "y = np.array([1,0,1,1,1,2,2,2,2,6,9,3,3,3,3]).reshape(3,5)\n",
    "y[row,t]"
   ]
  },
  {
   "cell_type": "code",
   "execution_count": null,
   "metadata": {},
   "outputs": [],
   "source": [
    "# 손실함수를 지표로 삼는 이유\n",
    "# 손실함수 => 연속적으로 변함\n",
    "# 정확도 => 불연속적으로 변함\n",
    "\n",
    "# 수치 미분을 하는 함수 구현하기!!\n",
    "# 함수의 기울기 출력\n",
    "def numeric_diff(f,x):\n",
    "    h = 1e-4\n",
    "    return (f(x+h)-f(x-h))/(2*h)"
   ]
  },
  {
   "cell_type": "code",
   "execution_count": null,
   "metadata": {},
   "outputs": [],
   "source": [
    "import matplotlib.pyplot as plt\n",
    "def function_1(x):\n",
    "    return 0.01*x**2 + 0.1*0.1\n",
    "\n",
    "x = np.arange(0.0,20.0,0.1)\n",
    "y = function_1(x)\n",
    "plt.plot(x,y)\n",
    "plt.xlabel('x')\n",
    "plt.ylabel('y')\n",
    "plt.show()\n",
    "\n"
   ]
  },
  {
   "cell_type": "code",
   "execution_count": null,
   "metadata": {},
   "outputs": [],
   "source": [
    "def function_2(x):\n",
    "    return x[0]**2 + x[1]**2"
   ]
  },
  {
   "cell_type": "code",
   "execution_count": null,
   "metadata": {},
   "outputs": [],
   "source": [
    "# 편미분을 동시에 구할 수 있는 함수 구현하기\n",
    "# 기울기들을 출력한다.\n",
    "\n",
    "def numeric_gradient(f,x):\n",
    "    h = 1e-4\n",
    "    grad = np.zeros_like(x)\n",
    "    \n",
    "    for idx in range(x.size):\n",
    "        tmp_val = x[idx]\n",
    "        # f(x+h) 구하기\n",
    "        x[idx] = tmp_val + h\n",
    "        fxh1 = f(x)\n",
    "        # f(x-h)구하기\n",
    "        x[idx] = tmp_val - h\n",
    "        fxh2 = f(x)\n",
    "        \n",
    "        grad[idx] = (fxh1-fxh2)/(2*h)\n",
    "        x[idx] = tmp_val\n",
    "        \n",
    "    return grad"
   ]
  },
  {
   "cell_type": "code",
   "execution_count": null,
   "metadata": {},
   "outputs": [],
   "source": [
    "numeric_gradient(function_2,np.array([3.0,4.0]))  # x1과 x2 각각의 기울기 구하기"
   ]
  },
  {
   "cell_type": "code",
   "execution_count": null,
   "metadata": {},
   "outputs": [],
   "source": [
    "# 손실함수가 최소가 되게끔 하기 위해 경사하강법을 사용한다.\n",
    "# 학습률은 수동적으로 정해주어야 한다.\n",
    "\n",
    "# 0.01씩 계속 움직이는데 그 과정을 100번 반복한다.\n",
    "def gradient_descent(f,init_x,lr=0.01,step_num = 100):\n",
    "    x = init_x\n",
    "    x_history = []\n",
    "    \n",
    "    for i in range(step_num):\n",
    "        \n",
    "        x_history.append(x.copy())\n",
    "        \n",
    "        grad = numerical_gradient(f,x)\n",
    "        x -= lr*grad\n",
    "    return x,np.array(x_history)"
   ]
  },
  {
   "cell_type": "code",
   "execution_count": null,
   "metadata": {},
   "outputs": [],
   "source": [
    "# 경사하강법을 이용하여 x0^2 + x1^2 의 최소값을 구하라\n",
    "\n",
    "def function_2(x):\n",
    "    return x[0]**2 + x[1]**2\n",
    "\n",
    "init_x = np.array([3.0,4.0])\n",
    "x,x_history = gradient_descent(function_2,init_x,lr=0.01,step_num=100)"
   ]
  },
  {
   "cell_type": "code",
   "execution_count": null,
   "metadata": {},
   "outputs": [],
   "source": [
    "plt.plot([-5,5],[0,0],'--b')\n",
    "plt.plot([0,0],[-5,5],'--b')\n",
    "plt.plot(x_history[:,0],x_history[:,1],'o')\n",
    "\n",
    "plt.xlim(-3.5, 3.5)\n",
    "plt.ylim(-4.5, 4.5)\n",
    "plt.xlabel(\"X0\")\n",
    "plt.ylabel(\"X1\")\n",
    "plt.show()"
   ]
  },
  {
   "cell_type": "code",
   "execution_count": null,
   "metadata": {},
   "outputs": [],
   "source": [
    "# 신경망에서의 기울기\n",
    "# 가중치 w를 변경했을 때 손실함수L이 얼마나 변화하는지를 나타낸다.\n",
    "\n",
    "# 신경망에서 기울기 구하는 코드 구현\n",
    "# class 사용하기!!\n",
    "\n",
    "sys.path.append(os.pardir)\n",
    "\n",
    "# 해당 경로에 있는 py파일 부르기\n",
    "from common.functions import *  # common파일의 functions.py를 import해서 모든 함수를 사용할 수 있게끔 만든다.\n",
    "from common.gradient import *"
   ]
  },
  {
   "cell_type": "code",
   "execution_count": null,
   "metadata": {},
   "outputs": [],
   "source": [
    "# class를 만들어서 사용하기\n",
    "class simpleNet:\n",
    "    def __init__(self):\n",
    "        self.W = np.random.randn(2,3)\n",
    "    \n",
    "    def predict(self,x):\n",
    "        return np.dot(x,self.W)\n",
    "    \n",
    "    def loss(self,x,t):\n",
    "        z = self.predict(x)\n",
    "        y = softmax(z)\n",
    "        loss = cross_entropy_error(y,t)\n",
    "        \n",
    "        return loss"
   ]
  },
  {
   "cell_type": "code",
   "execution_count": null,
   "metadata": {},
   "outputs": [],
   "source": [
    "net = simpleNet()\n",
    "print('가중치 배열 : ',net.W)\n",
    "\n",
    "x = np.array([0.6,0.9])\n",
    "print('예측값 : ',net.predict(x))\n",
    "\n",
    "t = np.array([0,0,1]) # 정답 레이블\n",
    "net.loss(x,t)"
   ]
  },
  {
   "cell_type": "code",
   "execution_count": null,
   "metadata": {},
   "outputs": [],
   "source": [
    "def f(w):\n",
    "    return net.loss(x,t)\n",
    "dw = numerical_gradient(f,net.W)  # 손실함수의 기울기 구하기\n",
    "print(dw)"
   ]
  },
  {
   "cell_type": "markdown",
   "metadata": {},
   "source": [
    "# 학습 알고리즘 구현"
   ]
  },
  {
   "cell_type": "markdown",
   "metadata": {},
   "source": [
    "* 1단계 : 훈련데이터 미니배치   ---> 미니배치의 손실함수(교차엔트로피,mse) 값을 줄이는 것이 목표\n",
    "* 2단계 : 각 가중치 매개변수의 기울기를 구한다.\n",
    "* 3단계 : 매개변수 개선 ---> 경사하강법을 이용해 가중치 매개변수를 갱신한다.\n",
    "* 4단계 : 1~3단계를 반복한다."
   ]
  },
  {
   "cell_type": "code",
   "execution_count": 1,
   "metadata": {},
   "outputs": [],
   "source": [
    "# 2층 신경망을 대상으로 신경망 구현  ---> 하나의 클래스로 구현\n",
    "\n",
    "import sys, os\n",
    "os.chdir('C:/Users/174518/Desktop/c언어,파이선/파이썬 데이터/밑바닥부터시작하는딥러닝1/deep-learning-from-scratch-master')\n",
    "sys.path.append(os.pardir)\n",
    "from common.functions import *\n",
    "from common.gradient import *\n",
    "\n",
    "class twolayernet:\n",
    "    \n",
    "    def __init__(self,input_size,hidden_size,output_size,\n",
    "                weight_init_std=0.01):   # 입력층의 노드수, 은닉층의 노드수, 출력층의 노드수, 초기 가중치\n",
    "        # 가중치 초기화\n",
    "        self.params={}\n",
    "        self.params['W1'] = weight_init_std * np.random.randn(input_size,hidden_size)\n",
    "        self.params['b1'] = np.zeros(hidden_size)\n",
    "        self.params['W2'] = weight_init_std * np.random.randn(hidden_size, output_size)\n",
    "        self.params['b2'] = np.zeros(output_size)\n",
    "    \n",
    "    def predict(self,x):  # x는 입력 값\n",
    "        W1,W2 = self.params['W1'],self.params['W2']\n",
    "        b1,b2 = self.params['b1'],self.params['b2']\n",
    "        \n",
    "        a1 = np.dot(x,W1) + b1  # 입력값과 첫번째 가중치를 곱하고 편향 b를 더한 값\n",
    "        z1 = sigmoid(a1)        # a1의 값을 활성화 함수(시그모이드)에 넣어서 값을 출력한다.\n",
    "        a2 = np.dot(z1,W2) + b2\n",
    "        y = softmax(a2)\n",
    "        \n",
    "        return y   # 최종 예측값 출력\n",
    "    \n",
    "    # x : 입력값 , t : 정답 레이블\n",
    "    def loss(self,x,t):\n",
    "        y = self.predict(x)\n",
    "        \n",
    "        return cross_entropy_error(y,t)  # 손실함수(교차엔트로피 오차)를 구한다.\n",
    "    \n",
    "    def accuracy(self,x,t):\n",
    "        y = self.predict(x)\n",
    "        y = np.argmax(y,axis=1)  # one-hot encoding 형식으로 나오기 때문에 1인 위치를 출력한다.\n",
    "        t = np.argmax(t,axis=1)\n",
    "        \n",
    "        accuracy = np.sum(y==t)/float(x.shape[0])\n",
    "        return accuracy\n",
    "    \n",
    "    def numerical_gradient(self,x,t):\n",
    "        loss_W = lambda W:self.loss(x,t)\n",
    "        \n",
    "        grads = {}\n",
    "        grads['W1'] = numerical_gradient(loss_W,self.params['W1'])\n",
    "        grads['b1'] = numerical_gradient(loss_W,self.params['b1'])\n",
    "        grads['W2'] = numerical_gradient(loss_W,self.params['W2'])\n",
    "        grads['b2'] = numerical_gradient(loss_W,self.params['b2'])\n",
    "        \n",
    "        return grads"
   ]
  },
  {
   "cell_type": "code",
   "execution_count": 2,
   "metadata": {},
   "outputs": [],
   "source": [
    "# 미니배치를 이용해 mnist데이터를 2층 신경망에 집어넣어 구현\n",
    "\n",
    "import numpy as np\n",
    "from dataset.mnist import load_mnist\n",
    "\n",
    "(x_train,t_train),(x_test,t_test) = load_mnist(normalize=True,one_hot_label=True)\n",
    "\n",
    "train_loss_list = []\n",
    "\n",
    "# 하이퍼 파라미터\n",
    "iters_num = 10 #반복 횟수\n",
    "train_size = x_train.shape[0]\n",
    "batch_size = 100 # 미니배치 할 개수\n",
    "learning_rate = 0.1\n",
    "\n",
    "# 신경망에 적용하기\n",
    "network = twolayernet(input_size=784,hidden_size=50,output_size=10)\n",
    "\n",
    "for i in range(iters_num):\n",
    "    # 미니배치 출력하기(랜덤으로 100개 출력)\n",
    "    batch_mask = np.random.choice(train_size,batch_size)  # 전체 train 데이터개수에서 100개를 랜덤으로 출력한다. (위치출력)\n",
    "    x_batch = x_train[batch_mask]\n",
    "    t_batch = t_train[batch_mask]\n",
    "    \n",
    "    # 기울기 계산\n",
    "    grad = network.numerical_gradient(x_batch,t_batch)\n",
    "    \n",
    "    # 매개변수 갱신\n",
    "    for key in ('W1','b1','W2','b2'):\n",
    "        network.params[key] -= learning_rate*grad[key]  # 각 매개변수를 경사하강법을 이용해 갱신시킨다.(갱신을 batch_size만큼 반복)\n",
    "    \n",
    "    # 학습 경과 기록\n",
    "    loss = network.loss(x_batch,t_batch)\n",
    "    train_loss_list.append(loss)"
   ]
  },
  {
   "cell_type": "code",
   "execution_count": 8,
   "metadata": {},
   "outputs": [
    {
     "data": {
      "image/png": "[encoded data removed]",
      "text/plain": [
       "<Figure size 432x288 with 1 Axes>"
      ]
     },
     "metadata": {
      "needs_background": "light"
     },
     "output_type": "display_data"
    }
   ],
   "source": [
    "import matplotlib.pyplot as plt\n",
    "plt.plot(train_loss_list)\n",
    "plt.show()"
   ]
  },
  {
   "cell_type": "code",
   "execution_count": null,
   "metadata": {},
   "outputs": [],
   "source": []
  },
  {
   "cell_type": "code",
   "execution_count": null,
   "metadata": {},
   "outputs": [],
   "source": []
  }
 ],
 "metadata": {
  "kernelspec": {
   "display_name": "Python 3",
   "language": "python",
   "name": "python3"
  },
  "language_info": {
   "codemirror_mode": {
    "name": "ipython",
    "version": 3
   },
   "file_extension": ".py",
   "mimetype": "text/x-python",
   "name": "python",
   "nbconvert_exporter": "python",
   "pygments_lexer": "ipython3",
   "version": "3.7.4"
  }
 },
 "nbformat": 4,
 "nbformat_minor": 2
}
